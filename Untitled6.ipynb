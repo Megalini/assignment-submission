{
  "nbformat": 4,
  "nbformat_minor": 0,
  "metadata": {
    "colab": {
      "name": "Untitled6.ipynb",
      "provenance": [],
      "toc_visible": true,
      "mount_file_id": "1Rzvt0a9tnsIZDeGsgW0bqW5uLJBRkKPx",
      "authorship_tag": "ABX9TyNG8JqT/fkaySDxQoHOIlit",
      "include_colab_link": true
    },
    "kernelspec": {
      "name": "python3",
      "display_name": "Python 3"
    },
    "language_info": {
      "name": "python"
    }
  },
  "cells": [
    {
      "cell_type": "markdown",
      "metadata": {
        "id": "view-in-github",
        "colab_type": "text"
      },
      "source": [
        "<a href=\"https://colab.research.google.com/github/Megalini/assignment-submission/blob/main/Untitled6.ipynb\" target=\"_parent\"><img src=\"https://colab.research.google.com/assets/colab-badge.svg\" alt=\"Open In Colab\"/></a>"
      ]
    },
    {
      "cell_type": "code",
      "metadata": {
        "colab": {
          "base_uri": "https://localhost:8080/"
        },
        "id": "m7BDnWv-P73f",
        "outputId": "4356fc45-97f7-4ab1-fd29-ec4a720bf0a8"
      },
      "source": [
        "celsius=float(input('Enter temprature value: '))\n",
        "fahrenheit=(celsius* 9/5)+32\n",
        "print('%.2f celsius is: %0.2f fahrenheit' %(celsius, fahrenheit))"
      ],
      "execution_count": 4,
      "outputs": [
        {
          "output_type": "stream",
          "text": [
            "Enter temprature value: 50\n",
            "50.00 celsius is: 122.00 fahrenheit\n"
          ],
          "name": "stdout"
        }
      ]
    },
    {
      "cell_type": "markdown",
      "metadata": {
        "id": "PM7jDvVPa3kt"
      },
      "source": [
        ""
      ]
    },
    {
      "cell_type": "code",
      "metadata": {
        "id": "5HzoyQMPa5FA"
      },
      "source": [
        ""
      ],
      "execution_count": null,
      "outputs": []
    }
  ]
}